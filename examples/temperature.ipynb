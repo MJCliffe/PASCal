{
 "cells": [
  {
   "cell_type": "code",
   "execution_count": null,
   "id": "55369d19-c330-43c8-a9b0-d904b8aaaea4",
   "metadata": {},
   "outputs": [],
   "source": [
    "from PASCal.app import fit\n",
    "import numpy as np"
   ]
  },
  {
   "cell_type": "code",
   "execution_count": null,
   "id": "37d8e3e8-3b4f-4d69-b67a-7fb3b1c99cb8",
   "metadata": {},
   "outputs": [],
   "source": [
    "# Define example data from the app\n",
    "data = np.loadtxt((line for line in \"\"\"\n",
    "#Variable Temperature Data for Ag3CoCN6 Phase II\n",
    "95      5       6.6200  11.3500 6.6230  90.0000 78.5000 90.0000\n",
    "120     5       6.6310  11.3622 6.6140  90.0000 78.4680 90.0000\n",
    "145     5       6.6328  11.3643 6.6099  90.0000 78.4700 90.0000\n",
    "170     5       6.6361  11.3759 6.6007  90.0000 78.4330 90.0000\n",
    "195     5       6.6330  11.3829 6.6062  90.0000 78.3690 90.0000\n",
    "220     5       6.6379  11.3883 6.6000  90.0000 78.3790 90.0000\n",
    "245     5       6.6383  11.3969 6.5980  90.0000 78.3720 90.0000\n",
    "270     5       6.6401  11.4091 6.5956  90.0000 78.3490 90.0000\n",
    "300     5       6.6415  11.4251 6.5959  90.0000 78.2840 90.0000\n",
    "\"\"\".splitlines()))"
   ]
  },
  {
   "cell_type": "code",
   "execution_count": null,
   "id": "e052ea20-5747-4303-b755-cabdcd140729",
   "metadata": {},
   "outputs": [],
   "source": [
    "x = data[:, 0]\n",
    "x_error = data[:, 1]\n",
    "unit_cells = data[:, 2:]"
   ]
  },
  {
   "cell_type": "code",
   "execution_count": null,
   "id": "fdd4d021-070d-44db-ab6a-d7bfdd0af6b8",
   "metadata": {},
   "outputs": [],
   "source": [
    "fit_results = fit(x, x_error, unit_cells, {\"data_type\": \"temperature\"})"
   ]
  },
  {
   "cell_type": "code",
   "execution_count": null,
   "id": "2d24e992-c085-4f97-b4b9-79cb1c5dda78",
   "metadata": {},
   "outputs": [],
   "source": [
    "fit_results.plot_strain()"
   ]
  },
  {
   "cell_type": "code",
   "execution_count": null,
   "id": "f7b82e7d-1fae-4988-9af8-20476bf81999",
   "metadata": {},
   "outputs": [],
   "source": [
    "fit_results.plot_volume()"
   ]
  },
  {
   "cell_type": "code",
   "execution_count": null,
   "id": "fc36ba65-93bb-4234-b390-f3967cd8bb73",
   "metadata": {},
   "outputs": [],
   "source": [
    "fit_results.plot_indicatrix(plot_size=600)"
   ]
  },
  {
   "cell_type": "code",
   "execution_count": null,
   "id": "31ca32a2-51a0-4765-a906-25cc8c398cfa",
   "metadata": {},
   "outputs": [],
   "source": [
    "import pprint\n",
    "pprint.pprint(fit_results.named_coefficients)"
   ]
  }
 ],
 "metadata": {
  "kernelspec": {
   "display_name": "Python 3 (ipykernel)",
   "language": "python",
   "name": "python3"
  },
  "language_info": {
   "codemirror_mode": {
    "name": "ipython",
    "version": 3
   },
   "file_extension": ".py",
   "mimetype": "text/x-python",
   "name": "python",
   "nbconvert_exporter": "python",
   "pygments_lexer": "ipython3",
   "version": "3.10.6"
  }
 },
 "nbformat": 4,
 "nbformat_minor": 5
}
