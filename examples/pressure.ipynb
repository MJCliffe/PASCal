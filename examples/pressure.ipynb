{
 "cells": [
  {
   "cell_type": "code",
   "execution_count": null,
   "id": "55369d19-c330-43c8-a9b0-d904b8aaaea4",
   "metadata": {},
   "outputs": [],
   "source": [
    "from PASCal.app import fit\n",
    "import numpy as np"
   ]
  },
  {
   "cell_type": "code",
   "execution_count": null,
   "id": "37d8e3e8-3b4f-4d69-b67a-7fb3b1c99cb8",
   "metadata": {},
   "outputs": [],
   "source": [
    "# Define example data from the app\n",
    "data = np.loadtxt((line for line in \"\"\"\n",
    "#Variable Pressure Data for Ag3CoCN6 Phase II\n",
    "0.190\t1\t6.6985\t11.5782\t6.5554\t90\t78.522\t90\n",
    "0.226\t1\t6.6934\t11.5391\t6.5661\t90\t78.521\t90.0000\n",
    "0.290\t1\t6.68\t11.468\t6.577\t90\t78.47\t90.0000\n",
    "0.294\t1\t6.6745\t11.497\t6.5707\t90\t78.473\t90.0000\n",
    "0.395\t1\t6.6415\t11.4251\t6.5959\t90\t78.284\t90.0000\n",
    "0.55\t1\t6.605\t11.295\t6.629\t90\t78.21\t90.0000\n",
    "0.78\t1\t6.553\t11.196\t6.646\t90\t77.967\t90.0000\n",
    "0.90\t1\t6.539\t11.156\t6.654\t90\t77.871\t90.0000\n",
    "0.92\t1\t6.5333\t11.154\t6.6507\t90\t77.91\t90.0000\n",
    "1.08\t1\t6.505\t11.116\t6.663\t90\t77.73\t90.0000\n",
    "1.87\t1\t6.4172\t10.922\t6.696\t90\t77.584\t90.0000\n",
    "3.02\t1\t6.2904\t10.739\t6.747\t90\t77.39\t90.0000\n",
    "5.13\t1\t6.0657\t10.493\t6.833\t90\t77.09\t90.0000\n",
    "6.92\t1\t5.91\t10.333\t6.891\t90\t77.01\t90.0000\n",
    "7.65\t1\t5.8657\t10.27\t6.908\t90\t76.921\t90.0000\n",
    "\"\"\".splitlines()))"
   ]
  },
  {
   "cell_type": "code",
   "execution_count": null,
   "id": "e052ea20-5747-4303-b755-cabdcd140729",
   "metadata": {},
   "outputs": [],
   "source": [
    "x = data[:, 0]\n",
    "x_error = data[:, 1]\n",
    "unit_cells = data[:, 2:]"
   ]
  },
  {
   "cell_type": "code",
   "execution_count": null,
   "id": "fdd4d021-070d-44db-ab6a-d7bfdd0af6b8",
   "metadata": {},
   "outputs": [],
   "source": [
    "fit_results = fit(x, x_error, unit_cells, {\"data_type\": \"pressure\"})"
   ]
  },
  {
   "cell_type": "code",
   "execution_count": null,
   "id": "08fe79b6-6569-4c79-8b17-e7c18c26061a",
   "metadata": {},
   "outputs": [],
   "source": [
    "from PASCal.plotting import plot_strain, plot_volume"
   ]
  },
  {
   "cell_type": "code",
   "execution_count": null,
   "id": "2d24e992-c085-4f97-b4b9-79cb1c5dda78",
   "metadata": {},
   "outputs": [],
   "source": [
    "fit_results.plot_strain()"
   ]
  },
  {
   "cell_type": "code",
   "execution_count": null,
   "id": "f7b82e7d-1fae-4988-9af8-20476bf81999",
   "metadata": {},
   "outputs": [],
   "source": [
    "fit_results.plot_volume()"
   ]
  },
  {
   "cell_type": "code",
   "execution_count": null,
   "id": "fc36ba65-93bb-4234-b390-f3967cd8bb73",
   "metadata": {},
   "outputs": [],
   "source": [
    "fit_results.plot_indicatrix(plot_size=600)"
   ]
  },
  {
   "cell_type": "code",
   "execution_count": null,
   "id": "c7c1d95f-fe66-4fb8-ad3e-a0070c9f5510",
   "metadata": {},
   "outputs": [],
   "source": [
    "fit_results.plot_compressibility()"
   ]
  },
  {
   "cell_type": "code",
   "execution_count": null,
   "id": "31ca32a2-51a0-4765-a906-25cc8c398cfa",
   "metadata": {},
   "outputs": [],
   "source": [
    "import pprint\n",
    "pprint.pprint(fit_results.named_coefficients)"
   ]
  }
 ],
 "metadata": {
  "kernelspec": {
   "display_name": "Python 3 (ipykernel)",
   "language": "python",
   "name": "python3"
  },
  "language_info": {
   "codemirror_mode": {
    "name": "ipython",
    "version": 3
   },
   "file_extension": ".py",
   "mimetype": "text/x-python",
   "name": "python",
   "nbconvert_exporter": "python",
   "pygments_lexer": "ipython3",
   "version": "3.10.6"
  }
 },
 "nbformat": 4,
 "nbformat_minor": 5
}
