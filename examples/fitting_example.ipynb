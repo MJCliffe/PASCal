{
 "cells": [
  {
   "cell_type": "code",
   "execution_count": 1,
   "id": "55369d19-c330-43c8-a9b0-d904b8aaaea4",
   "metadata": {},
   "outputs": [],
   "source": [
    "from PASCal.app import fit\n",
    "import numpy as np"
   ]
  },
  {
   "cell_type": "code",
   "execution_count": 2,
   "id": "37d8e3e8-3b4f-4d69-b67a-7fb3b1c99cb8",
   "metadata": {},
   "outputs": [],
   "source": [
    "# Define example data from the app\n",
    "data = np.loadtxt((line for line in \"\"\"\n",
    "95      5       6.6200  11.3500 6.6230  90.0000 78.5000 90.0000\n",
    "120     5       6.6310  11.3622 6.6140  90.0000 78.4680 90.0000\n",
    "145     5       6.6328  11.3643 6.6099  90.0000 78.4700 90.0000\n",
    "170     5       6.6361  11.3759 6.6007  90.0000 78.4330 90.0000\n",
    "195     5       6.6330  11.3829 6.6062  90.0000 78.3690 90.0000\n",
    "220     5       6.6379  11.3883 6.6000  90.0000 78.3790 90.0000\n",
    "245     5       6.6383  11.3969 6.5980  90.0000 78.3720 90.0000\n",
    "270     5       6.6401  11.4091 6.5956  90.0000 78.3490 90.0000\n",
    "300     5       6.6415  11.4251 6.5959  90.0000 78.2840 90.0000\n",
    "\"\"\".splitlines()))"
   ]
  },
  {
   "cell_type": "code",
   "execution_count": 3,
   "id": "e052ea20-5747-4303-b755-cabdcd140729",
   "metadata": {},
   "outputs": [],
   "source": [
    "x = data[:, 0]\n",
    "x_error = data[:, 1]\n",
    "unit_cells = data[:, 2:]"
   ]
  },
  {
   "cell_type": "code",
   "execution_count": 4,
   "id": "fdd4d021-070d-44db-ab6a-d7bfdd0af6b8",
   "metadata": {},
   "outputs": [
    {
     "name": "stdout",
     "output_type": "stream",
     "text": [
      "Performing fit with options=Options(data_type=<PASCalDataType.PRESSURE: 'Pressure'>, eulerian_strain=True, finite_strain=True, use_pc=False, pc_val=None, deg_poly_strain=5, deg_poly_vol=5)\n"
     ]
    },
    {
     "ename": "TypeError",
     "evalue": "cannot unpack non-iterable PASCalResults object",
     "output_type": "error",
     "traceback": [
      "\u001b[0;31m---------------------------------------------------------------------------\u001b[0m",
      "\u001b[0;31mTypeError\u001b[0m                                 Traceback (most recent call last)",
      "Cell \u001b[0;32mIn[4], line 1\u001b[0m\n\u001b[0;32m----> 1\u001b[0m diagonal_strain, cell_volumes, strain_fits, volume_fit, indicatrix \u001b[38;5;241m=\u001b[39m fit(x, x_error, unit_cells, {\u001b[38;5;124m\"\u001b[39m\u001b[38;5;124mdata_type\u001b[39m\u001b[38;5;124m\"\u001b[39m: \u001b[38;5;124m\"\u001b[39m\u001b[38;5;124mpressure\u001b[39m\u001b[38;5;124m\"\u001b[39m})\n",
      "\u001b[0;31mTypeError\u001b[0m: cannot unpack non-iterable PASCalResults object"
     ]
    }
   ],
   "source": [
    "diagonal_strain, cell_volumes, strain_fits, volume_fit, indicatrix = fit(x, x_error, unit_cells, {\"data_type\": \"pressure\"})"
   ]
  },
  {
   "cell_type": "code",
   "execution_count": null,
   "id": "08fe79b6-6569-4c79-8b17-e7c18c26061a",
   "metadata": {},
   "outputs": [],
   "source": [
    "from PASCal.plotting import plot_strain, plot_volume"
   ]
  },
  {
   "cell_type": "code",
   "execution_count": null,
   "id": "2d24e992-c085-4f97-b4b9-79cb1c5dda78",
   "metadata": {},
   "outputs": [],
   "source": [
    "plot_strain(x, diagonal_strain, strain_fits, \"pressure\")"
   ]
  },
  {
   "cell_type": "code",
   "execution_count": null,
   "id": "f7b82e7d-1fae-4988-9af8-20476bf81999",
   "metadata": {},
   "outputs": [],
   "source": [
    "plot_volume(x, cell_volumes, volume_fit, \"pressure\")"
   ]
  },
  {
   "cell_type": "code",
   "execution_count": null,
   "id": "fc36ba65-93bb-4234-b390-f3967cd8bb73",
   "metadata": {},
   "outputs": [],
   "source": []
  },
  {
   "cell_type": "code",
   "execution_count": null,
   "id": "c7c1d95f-fe66-4fb8-ad3e-a0070c9f5510",
   "metadata": {},
   "outputs": [],
   "source": []
  }
 ],
 "metadata": {
  "kernelspec": {
   "display_name": "Python 3 (ipykernel)",
   "language": "python",
   "name": "python3"
  },
  "language_info": {
   "codemirror_mode": {
    "name": "ipython",
    "version": 3
   },
   "file_extension": ".py",
   "mimetype": "text/x-python",
   "name": "python",
   "nbconvert_exporter": "python",
   "pygments_lexer": "ipython3",
   "version": "3.8.17"
  }
 },
 "nbformat": 4,
 "nbformat_minor": 5
}
